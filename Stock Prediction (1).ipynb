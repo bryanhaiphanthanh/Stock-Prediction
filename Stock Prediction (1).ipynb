{
 "cells": [
  {
   "cell_type": "markdown",
   "metadata": {},
   "source": [
    "#  Stock Predictions"
   ]
  },
  {
   "cell_type": "markdown",
   "metadata": {},
   "source": [
    "What is the best model to predict stock prices?"
   ]
  },
  {
   "cell_type": "code",
   "execution_count": 1,
   "metadata": {},
   "outputs": [
    {
     "name": "stderr",
     "output_type": "stream",
     "text": [
      "Loading required package: caret\n",
      "\n",
      "Loading required package: lattice\n",
      "\n",
      "Loading required package: ggplot2\n",
      "\n",
      "Loading required package: tidyverse\n",
      "\n",
      "── \u001b[1mAttaching packages\u001b[22m ─────────────────────────────────────── tidyverse 1.3.0 ──\n",
      "\n",
      "\u001b[32m✔\u001b[39m \u001b[34mtibble \u001b[39m 2.1.3     \u001b[32m✔\u001b[39m \u001b[34mdplyr  \u001b[39m 0.8.5\n",
      "\u001b[32m✔\u001b[39m \u001b[34mtidyr  \u001b[39m 1.0.2     \u001b[32m✔\u001b[39m \u001b[34mstringr\u001b[39m 1.4.0\n",
      "\u001b[32m✔\u001b[39m \u001b[34mreadr  \u001b[39m 1.3.1     \u001b[32m✔\u001b[39m \u001b[34mforcats\u001b[39m 0.5.0\n",
      "\u001b[32m✔\u001b[39m \u001b[34mpurrr  \u001b[39m 0.3.3     \n",
      "\n",
      "── \u001b[1mConflicts\u001b[22m ────────────────────────────────────────── tidyverse_conflicts() ──\n",
      "\u001b[31m✖\u001b[39m \u001b[34mdplyr\u001b[39m::\u001b[32mfilter()\u001b[39m masks \u001b[34mstats\u001b[39m::filter()\n",
      "\u001b[31m✖\u001b[39m \u001b[34mdplyr\u001b[39m::\u001b[32mlag()\u001b[39m    masks \u001b[34mstats\u001b[39m::lag()\n",
      "\u001b[31m✖\u001b[39m \u001b[34mpurrr\u001b[39m::\u001b[32mlift()\u001b[39m   masks \u001b[34mcaret\u001b[39m::lift()\n",
      "\n",
      "Loading required package: ISLR\n",
      "\n",
      "Loading required package: boot\n",
      "\n",
      "\n",
      "Attaching package: ‘boot’\n",
      "\n",
      "\n",
      "The following object is masked from ‘package:lattice’:\n",
      "\n",
      "    melanoma\n",
      "\n",
      "\n",
      "Loading required package: MASS\n",
      "\n",
      "\n",
      "Attaching package: ‘MASS’\n",
      "\n",
      "\n",
      "The following object is masked from ‘package:dplyr’:\n",
      "\n",
      "    select\n",
      "\n",
      "\n",
      "Loading required package: leaps\n",
      "\n",
      "Loading required package: glmnet\n",
      "\n",
      "Loading required package: Matrix\n",
      "\n",
      "\n",
      "Attaching package: ‘Matrix’\n",
      "\n",
      "\n",
      "The following objects are masked from ‘package:tidyr’:\n",
      "\n",
      "    expand, pack, unpack\n",
      "\n",
      "\n",
      "Loaded glmnet 3.0-2\n",
      "\n",
      "\n",
      "Loading required package: pls\n",
      "\n",
      "\n",
      "Attaching package: ‘pls’\n",
      "\n",
      "\n",
      "The following object is masked from ‘package:caret’:\n",
      "\n",
      "    R2\n",
      "\n",
      "\n",
      "The following object is masked from ‘package:stats’:\n",
      "\n",
      "    loadings\n",
      "\n",
      "\n"
     ]
    }
   ],
   "source": [
    "# Loading the packages\n",
    "if(!require(\"caret\")){install.packages(\"caret\")}\n",
    "if(!require(\"tidyverse\")){install.packages(\"tidyverse\")}\n",
    "if(!require(\"ISLR\")){install.packages(\"ISLR\")}\n",
    "if(!require(\"boot\")){install.packages(\"boot\")}\n",
    "if(!require(\"MASS\") ){ install.packages(\"MASS\") }\n",
    "if(! require(\"leaps\") ){ install.packages(\"leaps\") }\n",
    "if(! require(\"glmnet\") ){ install.packages(\"glmnet\") }\n",
    "if(! require(\"pls\") ){ install.packages(\"pls\") }\n",
    "if(! require(\"class\") ){ install.packages(\"class\") }\n",
    "library(boot)\n",
    "library(caret)\n",
    "library(tidyverse)\n",
    "library(ISLR)\n",
    "library(MASS)\n",
    "library(leaps)\n",
    "library(glmnet)\n",
    "library(pls)\n",
    "library(class)\n"
   ]
  },
  {
   "cell_type": "markdown",
   "metadata": {},
   "source": [
    "# Part 1: Dimensions Reduction"
   ]
  },
  {
   "cell_type": "code",
   "execution_count": 21,
   "metadata": {},
   "outputs": [
    {
     "name": "stderr",
     "output_type": "stream",
     "text": [
      "The following objects are masked from Weekly (pos = 3):\n",
      "\n",
      "    Direction, Lag1, Lag2, Lag3, Lag4, Lag5, Today, Volume, Year\n",
      "\n",
      "\n"
     ]
    },
    {
     "data": {
      "text/plain": [
       "      Year           Lag1               Lag2               Lag3         \n",
       " Min.   :1990   Min.   :-18.1950   Min.   :-18.1950   Min.   :-18.1950  \n",
       " 1st Qu.:1995   1st Qu.: -1.1540   1st Qu.: -1.1540   1st Qu.: -1.1580  \n",
       " Median :2000   Median :  0.2410   Median :  0.2410   Median :  0.2410  \n",
       " Mean   :2000   Mean   :  0.1506   Mean   :  0.1511   Mean   :  0.1472  \n",
       " 3rd Qu.:2005   3rd Qu.:  1.4050   3rd Qu.:  1.4090   3rd Qu.:  1.4090  \n",
       " Max.   :2010   Max.   : 12.0260   Max.   : 12.0260   Max.   : 12.0260  \n",
       "      Lag4               Lag5              Volume            Today         \n",
       " Min.   :-18.1950   Min.   :-18.1950   Min.   :0.08747   Min.   :-18.1950  \n",
       " 1st Qu.: -1.1580   1st Qu.: -1.1660   1st Qu.:0.33202   1st Qu.: -1.1540  \n",
       " Median :  0.2380   Median :  0.2340   Median :1.00268   Median :  0.2410  \n",
       " Mean   :  0.1458   Mean   :  0.1399   Mean   :1.57462   Mean   :  0.1499  \n",
       " 3rd Qu.:  1.4090   3rd Qu.:  1.4050   3rd Qu.:2.05373   3rd Qu.:  1.4050  \n",
       " Max.   : 12.0260   Max.   : 12.0260   Max.   :9.32821   Max.   : 12.0260  \n",
       " Direction \n",
       " Down:484  \n",
       " Up  :605  \n",
       "           \n",
       "           \n",
       "           \n",
       "           "
      ]
     },
     "metadata": {},
     "output_type": "display_data"
    }
   ],
   "source": [
    "attach(Weekly)\n",
    "summary(Weekly)\n",
    "set.seed(1)"
   ]
  },
  {
   "cell_type": "markdown",
   "metadata": {},
   "source": [
    "We would like to predict `Direction`, which denotes the direction of a stock's price on any given day. However, since there are many dependent variables, we would like to reduce it to only those that matters."
   ]
  },
  {
   "cell_type": "code",
   "execution_count": 3,
   "metadata": {},
   "outputs": [
    {
     "data": {
      "text/plain": [
       "\n",
       "Call:\n",
       "glm(formula = Direction ~ Lag1 + Lag2 + Lag3 + Lag4 + Lag5 + \n",
       "    Volume, family = \"binomial\", data = Weekly)\n",
       "\n",
       "Deviance Residuals: \n",
       "    Min       1Q   Median       3Q      Max  \n",
       "-1.6949  -1.2565   0.9913   1.0849   1.4579  \n",
       "\n",
       "Coefficients:\n",
       "            Estimate Std. Error z value Pr(>|z|)   \n",
       "(Intercept)  0.26686    0.08593   3.106   0.0019 **\n",
       "Lag1        -0.04127    0.02641  -1.563   0.1181   \n",
       "Lag2         0.05844    0.02686   2.175   0.0296 * \n",
       "Lag3        -0.01606    0.02666  -0.602   0.5469   \n",
       "Lag4        -0.02779    0.02646  -1.050   0.2937   \n",
       "Lag5        -0.01447    0.02638  -0.549   0.5833   \n",
       "Volume      -0.02274    0.03690  -0.616   0.5377   \n",
       "---\n",
       "Signif. codes:  0 ‘***’ 0.001 ‘**’ 0.01 ‘*’ 0.05 ‘.’ 0.1 ‘ ’ 1\n",
       "\n",
       "(Dispersion parameter for binomial family taken to be 1)\n",
       "\n",
       "    Null deviance: 1496.2  on 1088  degrees of freedom\n",
       "Residual deviance: 1486.4  on 1082  degrees of freedom\n",
       "AIC: 1500.4\n",
       "\n",
       "Number of Fisher Scoring iterations: 4\n"
      ]
     },
     "metadata": {},
     "output_type": "display_data"
    }
   ],
   "source": [
    "log.fit = glm(Direction~Lag1+Lag2+Lag3+Lag4+Lag5+Volume,family = \"binomial\", data=Weekly)\n",
    "summary(log.fit)"
   ]
  },
  {
   "cell_type": "markdown",
   "metadata": {},
   "source": [
    "The function has perform a t-test for every dependent variable, whose results are shown in the Pr(>|z|) column. It is testing between 2 hypotheses: \n",
    "    1. Hypothesis 0: The dependent variable's coefficient **MIGHT BE** 0, i.e. this variable is not significant.\n",
    "                     In this case, p-value > significance level\n",
    "                     \n",
    "    2. Hypothesis 1: The dependent variable's coefficient **IS NOT** be 0. i.e this variable is significant.\n",
    "                     In this case, p-value < significance level.\n",
    "\n",
    "Choosing a reasonable significance level of 0.05, we can see that only `Lag2` is statistically significant.\n",
    "Therefore, moving forward, we will use `Lag2` to predict `Direction`"
   ]
  },
  {
   "cell_type": "markdown",
   "metadata": {},
   "source": [
    "Below, we create a function to help us understand how each model perform."
   ]
  },
  {
   "cell_type": "markdown",
   "metadata": {},
   "source": [
    "# Part 2: Comparing Models"
   ]
  },
  {
   "cell_type": "code",
   "execution_count": 93,
   "metadata": {},
   "outputs": [],
   "source": [
    "show_model_performance <- function(prediction, observation) {\n",
    "    confusion_matrix <- table(prediction, \n",
    "                            observation, \n",
    "                            dnn = c(\"Pred\", \"Obs\"))\n",
    "    print(confusion_matrix)\n",
    "\n",
    "    err <- mean(prediction != observation)\n",
    "\n",
    "    cat(\"\\n\") # \\n means newline so it just prints a blank line\n",
    "    cat(\"             Error:\", 100 * err, \"%\\n\")\n",
    "    cat(\"Correct Prediction:\", 100 * (1-err), \"%\\n\\n\")\n",
    "    cat(\"     True Positive:\", 100 * confusion_matrix[2,1] / sum(confusion_matrix[,2]), \"%\\n\")\n",
    "    cat(\"    False Positive:\", 100 * confusion_matrix[2,1] / sum(confusion_matrix[,1]), \"%\\n\\n\")\n",
    "    cat(\"     True Negative:\", 100 * confusion_matrix[1,2] / sum(confusion_matrix[,1]), \"%\\n\")\n",
    "    cat(\"    False Negative:\", 100 * confusion_matrix[1,2] / sum(confusion_matrix[,2]), \"%\\n\")\n",
    "}\n",
    "\n",
    "predict_glm_direction <- function(model, newdata = NULL) {\n",
    "  predictions <- predict(model, newdata, type=\"response\")\n",
    "  return(as.factor(ifelse(predictions < 0.5, \"Down\", \"Up\")))\n",
    "}\n",
    "\n",
    "correct_rate <- function(prediction, observation) {\n",
    "    err <- mean(prediction != observation)\n",
    "    return (100 * (1-err))\n",
    "}"
   ]
  },
  {
   "cell_type": "markdown",
   "metadata": {},
   "source": [
    "## Model 1: Comprehesive Logistic Regression\n",
    "To demonstrate why using all variables is undesirable compared to only statistically significant ones, we compare 2 logistic models: Model 1 with all variables as predictor, and Model 2 with only Lag2 as predictor"
   ]
  },
  {
   "cell_type": "code",
   "execution_count": 94,
   "metadata": {},
   "outputs": [
    {
     "name": "stdout",
     "output_type": "stream",
     "text": [
      "      Obs\n",
      "Pred   Down  Up\n",
      "  Down   54  48\n",
      "  Up    430 557\n",
      "\n",
      "             Error: 43.89348 %\n",
      "Correct Prediction: 56.10652 %\n",
      "\n",
      "     True Positive: 71.07438 %\n",
      "    False Positive: 88.84298 %\n",
      "\n",
      "     True Negative: 9.917355 %\n",
      "    False Negative: 7.933884 %\n"
     ]
    }
   ],
   "source": [
    "log.probs = predict(log.fit, type=\"response\")\n",
    "log.preds = rep(\"Down\", 1089)\n",
    "log.preds[log.probs > 0.5] = \"Up\"\n",
    "\n",
    "show_model_performance(log.preds, Direction)"
   ]
  },
  {
   "cell_type": "markdown",
   "metadata": {},
   "source": [
    "## Results for: Log model\n",
    "### Correct Rate: 56%\n",
    "An above 50% correct rate is certainly desirable for long-term investment. Though this model is very good at predicting upward trends, it is terrible at predicting downward trends. Besides, False rates suggest that this model is biased toward positive direction."
   ]
  },
  {
   "cell_type": "markdown",
   "metadata": {},
   "source": [
    "## Model 2: Logistic regression with statistically significant predictors\n",
    "In this model, we will split our dataset into training and testing. Data before 2009 will be used to train, and we will predict data in 2009 and 2010."
   ]
  },
  {
   "cell_type": "code",
   "execution_count": 95,
   "metadata": {},
   "outputs": [
    {
     "name": "stdout",
     "output_type": "stream",
     "text": [
      "      Obs\n",
      "Pred   Down Up\n",
      "  Down    9  5\n",
      "  Up     34 56\n",
      "\n",
      "             Error: 37.5 %\n",
      "Correct Prediction: 62.5 %\n",
      "\n",
      "     True Positive: 55.7377 %\n",
      "    False Positive: 79.06977 %\n",
      "\n",
      "     True Negative: 11.62791 %\n",
      "    False Negative: 8.196721 %\n"
     ]
    }
   ],
   "source": [
    "train <- (Weekly$Year < 2009)\n",
    "train_set <- Weekly[train, ]\n",
    "test_set <- Weekly[!train, ]\n",
    "\n",
    "logit_model <- glm(Direction ~ Lag2, data = Weekly, family = binomial, subset = train)\n",
    "\n",
    "predicted_direction <- predict_glm_direction(logit_model, test_set)\n",
    "show_model_performance(predicted_direction, test_set$Direction)"
   ]
  },
  {
   "cell_type": "markdown",
   "metadata": {},
   "source": [
    "## Results for: Log model with only Lag2\n",
    "### Correct Rate: 62.5%\n",
    "By removing statistically insignificant predictors, we have improved the correct rate by 6.5%. However, this model still suffers from the same issue as before: heavy bias toward upward trend."
   ]
  },
  {
   "cell_type": "markdown",
   "metadata": {},
   "source": [
    "## Model 3: Linear Discriminant Analysis"
   ]
  },
  {
   "cell_type": "code",
   "execution_count": 96,
   "metadata": {},
   "outputs": [
    {
     "name": "stdout",
     "output_type": "stream",
     "text": [
      "      Obs\n",
      "Pred   Down Up\n",
      "  Down    9  5\n",
      "  Up     34 56\n",
      "\n",
      "             Error: 37.5 %\n",
      "Correct Prediction: 62.5 %\n",
      "\n",
      "     True Positive: 55.7377 %\n",
      "    False Positive: 79.06977 %\n",
      "\n",
      "     True Negative: 11.62791 %\n",
      "    False Negative: 8.196721 %\n"
     ]
    }
   ],
   "source": [
    "lda_model <- lda(Direction ~ Lag2, data = Weekly, subset = train)\n",
    "\n",
    "predictions <- predict(lda_model, test_set, type=\"response\")\n",
    "show_model_performance(predictions$class, test_set$Direction)"
   ]
  },
  {
   "cell_type": "markdown",
   "metadata": {},
   "source": [
    "## Results for: LDA\n",
    "### Correct Rate: 62.5%\n",
    "LDA produces the same results as Logistic Model with Lag2. Though this might seems unusual, this is actually not unprecedented since they are both quite similar. "
   ]
  },
  {
   "cell_type": "markdown",
   "metadata": {},
   "source": [
    "## Model 4: Quadratic Discriminant Analysis"
   ]
  },
  {
   "cell_type": "code",
   "execution_count": 97,
   "metadata": {},
   "outputs": [
    {
     "name": "stdout",
     "output_type": "stream",
     "text": [
      "      Obs\n",
      "Pred   Down Up\n",
      "  Down    0  0\n",
      "  Up     43 61\n",
      "\n",
      "             Error: 41.34615 %\n",
      "Correct Prediction: 58.65385 %\n",
      "\n",
      "     True Positive: 70.4918 %\n",
      "    False Positive: 100 %\n",
      "\n",
      "     True Negative: 0 %\n",
      "    False Negative: 0 %\n"
     ]
    }
   ],
   "source": [
    "qda_model <- qda(Direction ~ Lag2, data = Weekly, subset = train)\n",
    "\n",
    "predictions <- predict(qda_model, test_set, type=\"response\")\n",
    "show_model_performance(predictions$class, test_set$Direction)"
   ]
  },
  {
   "cell_type": "markdown",
   "metadata": {},
   "source": [
    "## Results for: QDA\n",
    "### Correct Rate: 58%\n",
    "With no downward predictions, this seems to be an over-optimistic and terrible model. QDA is a very flexible model, which might have led it to overgeneralize all data points into a single group as it attempts to fit to outliers. And as we know that the stock market tends to be very unpredictable from day to day, this seems to be a logical conslusion.\n",
    "\n",
    "However, at 58%, this model is BETTER than comprehensive logistic model (model 1) at 56%. What do we learn?\n",
    "We learn 2 things:\n",
    "    1. Including insignificant predictors in your models not only complicates things, but also makes your model worse\n",
    "    2. If you assume that the market's value will rise everyday, without doing any calculations, you would be right 58% of the time!\n",
    "    \n",
    "What does point 2. entail? It entails a stock trading strategy that has been proven to be successful for hundreds of years: Buy-and-Hold. If you buy a share and keep it for as long as you can, you would likely make profits. \n",
    "\n",
    "In our case, we are monitoring the general value of the market, which suggests that buying ETFs and holding them is a very effective strategy."
   ]
  },
  {
   "cell_type": "markdown",
   "metadata": {},
   "source": [
    "## Model 5: K-nearest Neighbors"
   ]
  },
  {
   "cell_type": "code",
   "execution_count": 154,
   "metadata": {},
   "outputs": [],
   "source": [
    "run_knn <- function(train, test, train_class, test_class, k) {\n",
    "    set.seed(1)\n",
    "    predictions <- knn(train, test, train_class, k)\n",
    "\n",
    "    cat(\"KNN: k =\", k, \"\\n\")\n",
    "    show_model_performance(predictions, test_class)\n",
    "}"
   ]
  },
  {
   "cell_type": "markdown",
   "metadata": {},
   "source": [
    "We first attempts to find the best K value. We test each K value from 1 to 300 to see which provide the best test accuracy."
   ]
  },
  {
   "cell_type": "code",
   "execution_count": 173,
   "metadata": {},
   "outputs": [
    {
     "data": {
      "image/png": "[encoded data removed]",
      "text/plain": [
       "plot without title"
      ]
     },
     "metadata": {
      "image/png": {
       "height": 420,
       "width": 420
      },
      "text/plain": {
       "height": 420,
       "width": 420
      }
     },
     "output_type": "display_data"
    }
   ],
   "source": [
    "knn_array <- rep(NA, 300)\n",
    "for (k in 1:300) {\n",
    "    predictions <- knn(train_matrix, test_matrix, train_set$Direction, k)\n",
    "    knn_array[k] <- correct_rate(predictions, test_set$Direction)\n",
    "}\n",
    "plot(1:300, knn_array, xlab = \"Number of nearest neighbor k\", ylab = \"Correct Rate\", type = \"l\")\n"
   ]
  },
  {
   "cell_type": "code",
   "execution_count": 166,
   "metadata": {},
   "outputs": [
    {
     "name": "stdout",
     "output_type": "stream",
     "text": [
      "KNN has the highest correct rate =  64.42308 % at k =  154 \n"
     ]
    }
   ],
   "source": [
    "for (i in 100:160){\n",
    "    max_knn <- max(knn_array)\n",
    "    if (knn_array[i] == max_knn){\n",
    "        cat(\"KNN has the highest correct rate = \", max_knn,\"%\", \"at k = \", i + 1, \"\\n\")\n",
    "        break\n",
    "    }\n",
    "}\n"
   ]
  },
  {
   "cell_type": "code",
   "execution_count": 171,
   "metadata": {},
   "outputs": [
    {
     "name": "stdout",
     "output_type": "stream",
     "text": [
      "KNN: k = 154 \n",
      "      Obs\n",
      "Pred   Down Up\n",
      "  Down   10  4\n",
      "  Up     33 57\n",
      "\n",
      "             Error: 35.57692 %\n",
      "Correct Prediction: 64.42308 %\n",
      "\n",
      "     True Positive: 54.09836 %\n",
      "    False Positive: 76.74419 %\n",
      "\n",
      "     True Negative: 9.302326 %\n",
      "    False Negative: 6.557377 %\n"
     ]
    }
   ],
   "source": [
    "train_matrix <- as.matrix(train_set$Lag2)\n",
    "test_matrix <- as.matrix(test_set$Lag2)\n",
    "\n",
    "run_knn(train_matrix, test_matrix, train_set$Direction, test_set$Direction, k = 154)"
   ]
  },
  {
   "cell_type": "code",
   "execution_count": 172,
   "metadata": {},
   "outputs": [
    {
     "name": "stdout",
     "output_type": "stream",
     "text": [
      "KNN: k = 1 \n",
      "      Obs\n",
      "Pred   Down Up\n",
      "  Down   21 30\n",
      "  Up     22 31\n",
      "\n",
      "             Error: 50 %\n",
      "Correct Prediction: 50 %\n",
      "\n",
      "     True Positive: 36.06557 %\n",
      "    False Positive: 51.16279 %\n",
      "\n",
      "     True Negative: 69.76744 %\n",
      "    False Negative: 49.18033 %\n"
     ]
    }
   ],
   "source": [
    "run_knn(train_matrix, test_matrix, train_set$Direction, test_set$Direction, k = 1)"
   ]
  },
  {
   "cell_type": "markdown",
   "metadata": {},
   "source": [
    "## Results for: KNN\n",
    "### Correct Rate: 64.42%\n",
    "Looking at the KNN comparison graph, we can see that the best k value is around 150. We have calculated to identify\n",
    "k = 154 maximizes Correct Prediction. We also see that smaller k value (less than 100) does not provide a good model. This might be explained that more flexible models might not be good at predicting the stock market since it is volatile.\n",
    "\n",
    "On the other hand, k = 154 suffers from the same issue with other inflexible models: low correct rate on negative direction. k = 1 produces significantly better prediction for negative directions than any other tested model, albeit it at the cost of producing the lowest overall accuracy."
   ]
  },
  {
   "cell_type": "markdown",
   "metadata": {},
   "source": [
    "# Part 3: What do we learn?"
   ]
  },
  {
   "cell_type": "markdown",
   "metadata": {},
   "source": [
    "1. Less is More. Including statistically insignificant varibles in your model makes it worse\n",
    "2. For predicting stock market, KNN with k = 154 provides good predictions\n",
    "3. More flexible methods are not as good as inflexible ones in predicting the stock market\n",
    "4. Buy-and-Hold is backed by statistics to be a legit trading stradegy!"
   ]
  },
  {
   "cell_type": "code",
   "execution_count": null,
   "metadata": {},
   "outputs": [],
   "source": []
  }
 ],
 "metadata": {
  "kernelspec": {
   "display_name": "R",
   "language": "R",
   "name": "ir"
  },
  "language_info": {
   "codemirror_mode": "r",
   "file_extension": ".r",
   "mimetype": "text/x-r-source",
   "name": "R",
   "pygments_lexer": "r",
   "version": "3.6.2"
  }
 },
 "nbformat": 4,
 "nbformat_minor": 4
}
